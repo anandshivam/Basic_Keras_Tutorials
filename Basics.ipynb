{
 "cells": [
  {
   "cell_type": "code",
   "execution_count": 1,
   "metadata": {
    "ExecuteTime": {
     "end_time": "2020-08-10T10:06:51.829387Z",
     "start_time": "2020-08-10T10:05:56.918446Z"
    }
   },
   "outputs": [],
   "source": [
    "# importing libraries\n",
    "import numpy as np\n",
    "import tensorflow as tf\n",
    "from tensorflow import keras"
   ]
  },
  {
   "cell_type": "markdown",
   "metadata": {},
   "source": [
    "Prepare your data before training a model (by turning it into either NumPy arrays or tf.data.Dataset objects).\n",
    "\n",
    "Do data preprocessing, for instance feature normalization or vocabulary indexing.\n",
    "\n",
    "Build a model that turns your data into useful predictions, using the Keras Functional API.\n",
    "\n",
    "Train your model with the built-in Keras fit() method, while being mindful of checkpointing, metrics monitoring, and fault tolerance.\n",
    "\n",
    "Evaluate your model on a test data and how to use it for inference on new data.\n",
    "\n",
    "Customize what fit() does, for instance to build a GAN.\n",
    "\n",
    "Speed up training by leveraging multiple GPUs.\n",
    "\n",
    "Refine your model through hyperparameter tuning."
   ]
  },
  {
   "cell_type": "markdown",
   "metadata": {},
   "source": [
    "## Data loading & preprocessing"
   ]
  },
  {
   "cell_type": "markdown",
   "metadata": {
    "ExecuteTime": {
     "end_time": "2020-08-10T10:11:59.034217Z",
     "start_time": "2020-08-10T10:11:59.003292Z"
    }
   },
   "source": [
    "Neural networks don't process raw data, like text files, encoded JPEG image files, or CSV files. They process vectorized & standardized representations.\n",
    "\n",
    "Text files need to be read into string tensors, then split into words. Finally, the words need to be indexed & turned into integer tensors.\n",
    "\n",
    "Images need to be read and decoded into integer tensors, then converted to floating point and normalized to small values (usually between 0 and 1).\n",
    "\n",
    "CSV data needs to be parsed, with numerical features converted to floating point tensors and categorical features indexed and converted to integer tensors. Then each feature typically needs to be normalized to zero-mean and unit-variance.\n",
    "\n",
    "Let's start with data loading."
   ]
  },
  {
   "cell_type": "markdown",
   "metadata": {},
   "source": [
    "### Data loading"
   ]
  },
  {
   "cell_type": "markdown",
   "metadata": {},
   "source": [
    "Keras models accept three types of inputs:\n",
    "\n",
    "* NumPy arrays, just like Scikit-Learn and many other Python-based libraries. This is a good option if your data fits in memory.\n",
    "\n",
    "* TensorFlow Dataset objects. This is a high-performance option that is more suitable for datasets that do not fit in memory and that are streamed from disk or from a distributed filesystem.\n",
    "\n",
    "* Python generators that yield batches of data (such as custom subclasses of the keras.utils.Sequence class)."
   ]
  },
  {
   "cell_type": "code",
   "execution_count": null,
   "metadata": {},
   "outputs": [],
   "source": []
  }
 ],
 "metadata": {
  "kernelspec": {
   "display_name": "Python 3",
   "language": "python",
   "name": "python3"
  },
  "language_info": {
   "codemirror_mode": {
    "name": "ipython",
    "version": 3
   },
   "file_extension": ".py",
   "mimetype": "text/x-python",
   "name": "python",
   "nbconvert_exporter": "python",
   "pygments_lexer": "ipython3",
   "version": "3.7.4"
  },
  "toc": {
   "base_numbering": 1,
   "nav_menu": {},
   "number_sections": true,
   "sideBar": true,
   "skip_h1_title": false,
   "title_cell": "Table of Contents",
   "title_sidebar": "Contents",
   "toc_cell": false,
   "toc_position": {},
   "toc_section_display": true,
   "toc_window_display": false
  }
 },
 "nbformat": 4,
 "nbformat_minor": 4
}
